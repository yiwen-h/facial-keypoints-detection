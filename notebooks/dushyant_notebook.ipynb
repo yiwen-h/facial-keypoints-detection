{
 "cells": [
  {
   "cell_type": "code",
   "execution_count": 1,
   "metadata": {},
   "outputs": [],
   "source": [
    "import numpy as np\n",
    "import pandas as pd\n",
    "# from mpl_toolkits.mplot3d import Axes3D\n",
    "import matplotlib.pyplot as plt\n",
    "# import matplotlib\n",
    "import glob\n",
    "# from sklearn import cluster"
   ]
  },
  {
   "cell_type": "code",
   "execution_count": 2,
   "metadata": {},
   "outputs": [],
   "source": [
    "data_path = \"../raw_data/youtube_keypoints_data/\""
   ]
  },
  {
   "cell_type": "code",
   "execution_count": 3,
   "metadata": {},
   "outputs": [
    {
     "data": {
      "text/html": [
       "<div>\n",
       "<style scoped>\n",
       "    .dataframe tbody tr th:only-of-type {\n",
       "        vertical-align: middle;\n",
       "    }\n",
       "\n",
       "    .dataframe tbody tr th {\n",
       "        vertical-align: top;\n",
       "    }\n",
       "\n",
       "    .dataframe thead th {\n",
       "        text-align: right;\n",
       "    }\n",
       "</style>\n",
       "<table border=\"1\" class=\"dataframe\">\n",
       "  <thead>\n",
       "    <tr style=\"text-align: right;\">\n",
       "      <th></th>\n",
       "      <th>videoID</th>\n",
       "      <th>personName</th>\n",
       "      <th>imageHeight</th>\n",
       "      <th>imageWidth</th>\n",
       "      <th>videoDuration</th>\n",
       "      <th>averageFaceSize</th>\n",
       "      <th>numVideosForPerson</th>\n",
       "    </tr>\n",
       "  </thead>\n",
       "  <tbody>\n",
       "    <tr>\n",
       "      <th>0</th>\n",
       "      <td>Alison_Lohman_0</td>\n",
       "      <td>Alison_Lohman</td>\n",
       "      <td>228.0</td>\n",
       "      <td>213.0</td>\n",
       "      <td>240.0</td>\n",
       "      <td>90.150000</td>\n",
       "      <td>6.0</td>\n",
       "    </tr>\n",
       "    <tr>\n",
       "      <th>1</th>\n",
       "      <td>Alison_Lohman_1</td>\n",
       "      <td>Alison_Lohman</td>\n",
       "      <td>248.0</td>\n",
       "      <td>201.0</td>\n",
       "      <td>79.0</td>\n",
       "      <td>108.417722</td>\n",
       "      <td>6.0</td>\n",
       "    </tr>\n",
       "    <tr>\n",
       "      <th>2</th>\n",
       "      <td>Alison_Lohman_2</td>\n",
       "      <td>Alison_Lohman</td>\n",
       "      <td>335.0</td>\n",
       "      <td>308.0</td>\n",
       "      <td>136.0</td>\n",
       "      <td>122.161765</td>\n",
       "      <td>6.0</td>\n",
       "    </tr>\n",
       "    <tr>\n",
       "      <th>3</th>\n",
       "      <td>Alison_Lohman_3</td>\n",
       "      <td>Alison_Lohman</td>\n",
       "      <td>151.0</td>\n",
       "      <td>110.0</td>\n",
       "      <td>53.0</td>\n",
       "      <td>58.000000</td>\n",
       "      <td>6.0</td>\n",
       "    </tr>\n",
       "    <tr>\n",
       "      <th>4</th>\n",
       "      <td>Alison_Lohman_4</td>\n",
       "      <td>Alison_Lohman</td>\n",
       "      <td>236.0</td>\n",
       "      <td>228.0</td>\n",
       "      <td>147.0</td>\n",
       "      <td>91.680272</td>\n",
       "      <td>6.0</td>\n",
       "    </tr>\n",
       "    <tr>\n",
       "      <th>5</th>\n",
       "      <td>Alison_Lohman_5</td>\n",
       "      <td>Alison_Lohman</td>\n",
       "      <td>227.0</td>\n",
       "      <td>179.0</td>\n",
       "      <td>68.0</td>\n",
       "      <td>105.647059</td>\n",
       "      <td>6.0</td>\n",
       "    </tr>\n",
       "    <tr>\n",
       "      <th>6</th>\n",
       "      <td>Kevin_Spacey_0</td>\n",
       "      <td>Kevin_Spacey</td>\n",
       "      <td>196.0</td>\n",
       "      <td>264.0</td>\n",
       "      <td>91.0</td>\n",
       "      <td>99.912088</td>\n",
       "      <td>6.0</td>\n",
       "    </tr>\n",
       "    <tr>\n",
       "      <th>7</th>\n",
       "      <td>Kevin_Spacey_1</td>\n",
       "      <td>Kevin_Spacey</td>\n",
       "      <td>260.0</td>\n",
       "      <td>217.0</td>\n",
       "      <td>59.0</td>\n",
       "      <td>120.186441</td>\n",
       "      <td>6.0</td>\n",
       "    </tr>\n",
       "    <tr>\n",
       "      <th>8</th>\n",
       "      <td>Kevin_Spacey_2</td>\n",
       "      <td>Kevin_Spacey</td>\n",
       "      <td>186.0</td>\n",
       "      <td>175.0</td>\n",
       "      <td>71.0</td>\n",
       "      <td>86.746479</td>\n",
       "      <td>6.0</td>\n",
       "    </tr>\n",
       "    <tr>\n",
       "      <th>9</th>\n",
       "      <td>Kevin_Spacey_3</td>\n",
       "      <td>Kevin_Spacey</td>\n",
       "      <td>100.0</td>\n",
       "      <td>89.0</td>\n",
       "      <td>99.0</td>\n",
       "      <td>44.636364</td>\n",
       "      <td>6.0</td>\n",
       "    </tr>\n",
       "    <tr>\n",
       "      <th>10</th>\n",
       "      <td>Kevin_Spacey_4</td>\n",
       "      <td>Kevin_Spacey</td>\n",
       "      <td>212.0</td>\n",
       "      <td>207.0</td>\n",
       "      <td>240.0</td>\n",
       "      <td>99.025000</td>\n",
       "      <td>6.0</td>\n",
       "    </tr>\n",
       "    <tr>\n",
       "      <th>11</th>\n",
       "      <td>Kevin_Spacey_5</td>\n",
       "      <td>Kevin_Spacey</td>\n",
       "      <td>242.0</td>\n",
       "      <td>205.0</td>\n",
       "      <td>203.0</td>\n",
       "      <td>116.886700</td>\n",
       "      <td>6.0</td>\n",
       "    </tr>\n",
       "    <tr>\n",
       "      <th>12</th>\n",
       "      <td>Lauren_Hutton_0</td>\n",
       "      <td>Lauren_Hutton</td>\n",
       "      <td>223.0</td>\n",
       "      <td>202.0</td>\n",
       "      <td>127.0</td>\n",
       "      <td>96.086614</td>\n",
       "      <td>6.0</td>\n",
       "    </tr>\n",
       "    <tr>\n",
       "      <th>13</th>\n",
       "      <td>Lauren_Hutton_1</td>\n",
       "      <td>Lauren_Hutton</td>\n",
       "      <td>279.0</td>\n",
       "      <td>213.0</td>\n",
       "      <td>68.0</td>\n",
       "      <td>107.191176</td>\n",
       "      <td>6.0</td>\n",
       "    </tr>\n",
       "    <tr>\n",
       "      <th>14</th>\n",
       "      <td>Lauren_Hutton_2</td>\n",
       "      <td>Lauren_Hutton</td>\n",
       "      <td>320.0</td>\n",
       "      <td>361.0</td>\n",
       "      <td>55.0</td>\n",
       "      <td>193.781818</td>\n",
       "      <td>6.0</td>\n",
       "    </tr>\n",
       "  </tbody>\n",
       "</table>\n",
       "</div>"
      ],
      "text/plain": [
       "            videoID     personName  imageHeight  imageWidth  videoDuration  \\\n",
       "0   Alison_Lohman_0  Alison_Lohman        228.0       213.0          240.0   \n",
       "1   Alison_Lohman_1  Alison_Lohman        248.0       201.0           79.0   \n",
       "2   Alison_Lohman_2  Alison_Lohman        335.0       308.0          136.0   \n",
       "3   Alison_Lohman_3  Alison_Lohman        151.0       110.0           53.0   \n",
       "4   Alison_Lohman_4  Alison_Lohman        236.0       228.0          147.0   \n",
       "5   Alison_Lohman_5  Alison_Lohman        227.0       179.0           68.0   \n",
       "6    Kevin_Spacey_0   Kevin_Spacey        196.0       264.0           91.0   \n",
       "7    Kevin_Spacey_1   Kevin_Spacey        260.0       217.0           59.0   \n",
       "8    Kevin_Spacey_2   Kevin_Spacey        186.0       175.0           71.0   \n",
       "9    Kevin_Spacey_3   Kevin_Spacey        100.0        89.0           99.0   \n",
       "10   Kevin_Spacey_4   Kevin_Spacey        212.0       207.0          240.0   \n",
       "11   Kevin_Spacey_5   Kevin_Spacey        242.0       205.0          203.0   \n",
       "12  Lauren_Hutton_0  Lauren_Hutton        223.0       202.0          127.0   \n",
       "13  Lauren_Hutton_1  Lauren_Hutton        279.0       213.0           68.0   \n",
       "14  Lauren_Hutton_2  Lauren_Hutton        320.0       361.0           55.0   \n",
       "\n",
       "    averageFaceSize  numVideosForPerson  \n",
       "0         90.150000                 6.0  \n",
       "1        108.417722                 6.0  \n",
       "2        122.161765                 6.0  \n",
       "3         58.000000                 6.0  \n",
       "4         91.680272                 6.0  \n",
       "5        105.647059                 6.0  \n",
       "6         99.912088                 6.0  \n",
       "7        120.186441                 6.0  \n",
       "8         86.746479                 6.0  \n",
       "9         44.636364                 6.0  \n",
       "10        99.025000                 6.0  \n",
       "11       116.886700                 6.0  \n",
       "12        96.086614                 6.0  \n",
       "13       107.191176                 6.0  \n",
       "14       193.781818                 6.0  "
      ]
     },
     "execution_count": 3,
     "metadata": {},
     "output_type": "execute_result"
    }
   ],
   "source": [
    "df = pd.read_csv(data_path + 'youtube_faces_with_keypoints_full.csv')\n",
    "df.head(15)"
   ]
  },
  {
   "cell_type": "code",
   "execution_count": 4,
   "metadata": {},
   "outputs": [],
   "source": [
    "fullPaths = {}\n",
    "allVideoIDs = []\n",
    "for x in range(1, 3, 1):\n",
    "  npzFilesFullPath = glob.glob(data_path + f\"youtube_faces_with_keypoints_full_{x}/\" + '*.npz')\n",
    "  videoIDs = [x.split('/')[-1].split('.')[0] for x in npzFilesFullPath]\n",
    "  for videoID, fullPath in zip(videoIDs, npzFilesFullPath):\n",
    "    fullPaths[videoID] = fullPath\n",
    "    allVideoIDs.append(videoID)"
   ]
  },
  {
   "cell_type": "code",
   "execution_count": 5,
   "metadata": {},
   "outputs": [
    {
     "name": "stdout",
     "output_type": "stream",
     "text": [
      "(2194, 7)\n"
     ]
    }
   ],
   "source": [
    "# print(allVideoIDs)\n",
    "# print(fullPaths)\n",
    "print(df.shape)"
   ]
  },
  {
   "cell_type": "code",
   "execution_count": 6,
   "metadata": {},
   "outputs": [
    {
     "data": {
      "text/plain": [
       "(1094, 7)"
      ]
     },
     "execution_count": 6,
     "metadata": {},
     "output_type": "execute_result"
    }
   ],
   "source": [
    "videoDF = df[df['videoID'].apply(lambda l: l in allVideoIDs)]\n",
    "videoDF.shape"
   ]
  },
  {
   "cell_type": "code",
   "execution_count": 7,
   "metadata": {},
   "outputs": [
    {
     "name": "stdout",
     "output_type": "stream",
     "text": [
      "Number of Videos is 1094\n",
      "Number of Unique Individuals is 417\n"
     ]
    }
   ],
   "source": [
    "print('Number of Videos is %d' %(videoDF.shape[0]))\n",
    "print('Number of Unique Individuals is %d' %(len(videoDF['personName'].unique())))"
   ]
  },
  {
   "cell_type": "markdown",
   "metadata": {},
   "source": [
    "## Youtube display"
   ]
  },
  {
   "cell_type": "code",
   "execution_count": null,
   "metadata": {},
   "outputs": [],
   "source": [
    "# from IPython.display import YouTubeVideo\n",
    "# YouTubeVideo('8FdSHl4oNIM',width=640, height=480)"
   ]
  },
  {
   "cell_type": "code",
   "execution_count": 8,
   "metadata": {},
   "outputs": [],
   "source": [
    "# show several frames from each video and overlay 2D keypoints\n",
    "np.random.seed(3)\n",
    "numVideos = 4\n",
    "framesToShowFromVideo = np.array([0.1,0.5,0.9])\n",
    "numFramesPerVideo = len(framesToShowFromVideo)\n",
    "\n",
    "# define which points need to be connected with a line\n",
    "jawPoints          = [ 0,17]\n",
    "rigthEyebrowPoints = [17,22]\n",
    "leftEyebrowPoints  = [22,27]\n",
    "noseRidgePoints    = [27,31]\n",
    "noseBasePoints     = [31,36]\n",
    "rightEyePoints     = [36,42]\n",
    "leftEyePoints      = [42,48]\n",
    "outerMouthPoints   = [48,60]\n",
    "innerMouthPoints   = [60,68]\n",
    "\n",
    "listOfAllConnectedPoints = [jawPoints,rigthEyebrowPoints,leftEyebrowPoints,\n",
    "                            noseRidgePoints,noseBasePoints,\n",
    "                            rightEyePoints,leftEyePoints,outerMouthPoints,innerMouthPoints]"
   ]
  },
  {
   "cell_type": "code",
   "execution_count": 11,
   "metadata": {},
   "outputs": [
    {
     "name": "stdout",
     "output_type": "stream",
     "text": [
      "[[0, 17], [17, 22], [22, 27], [27, 31], [31, 36], [36, 42], [42, 48], [48, 60], [60, 68]]\n"
     ]
    }
   ],
   "source": [
    "print(listOfAllConnectedPoints)"
   ]
  },
  {
   "cell_type": "code",
   "execution_count": null,
   "metadata": {},
   "outputs": [],
   "source": [
    "# select a random subset of 'numVideos' from the available videos\n",
    "randVideoIDs = videoDF.loc[np.random.choice(videoDF.index,size=numVideos,replace=True),'videoID']\n",
    "randVideoIDs"
   ]
  },
  {
   "cell_type": "code",
   "execution_count": null,
   "metadata": {},
   "outputs": [],
   "source": [
    "fig, axArray = plt.subplots(nrows=numVideos,ncols=numFramesPerVideo,figsize=(14,18))\n",
    "for i, videoID in enumerate(randVideoIDs):\n",
    "    # load video\n",
    "    videoFile = np.load(fullPaths[videoID])\n",
    "    colorImages = videoFile['colorImages']\n",
    "    # boundingBox = videoFile['boundingBox']\n",
    "    landmarks2D = videoFile['landmarks2D']\n",
    "    # l    = videoFile['landmarks3D']\n",
    "\n",
    "    # select frames and show their content\n",
    "    selectedFrames = (framesToShowFromVideo*(colorImages.shape[3]-1)).astype(int)\n",
    "    for j, frameInd in enumerate(selectedFrames):\n",
    "        axArray[i][j].imshow(colorImages[:,:,:,frameInd])\n",
    "        axArray[i][j].scatter(x=landmarks2D[:,0,frameInd],y=landmarks2D[:,1,frameInd],s=9,c='r')\n",
    "\n",
    "        for conPts in listOfAllConnectedPoints:\n",
    "            xPts = landmarks2D[conPts[0]:conPts[-1],0,frameInd]\n",
    "            yPts = landmarks2D[conPts[0]:conPts[-1],1,frameInd]\n",
    "            axArray[i][j].plot(xPts,yPts,c='w',lw=1)\n",
    "        axArray[i][j].set_title('\"%s\" (t=%d)' %(videoID,frameInd), fontsize=12)\n",
    "        axArray[i][j].set_axis_off()"
   ]
  },
  {
   "cell_type": "code",
   "execution_count": 9,
   "metadata": {},
   "outputs": [
    {
     "data": {
      "text/plain": [
       "['colorImages', 'landmarks2D']"
      ]
     },
     "execution_count": 9,
     "metadata": {},
     "output_type": "execute_result"
    }
   ],
   "source": [
    "# videoFile = np.load(fullPaths['Jason_Biggs_0'])\n",
    "# videoFile.files"
   ]
  },
  {
   "cell_type": "code",
   "execution_count": null,
   "metadata": {},
   "outputs": [],
   "source": []
  }
 ],
 "metadata": {
  "kernelspec": {
   "display_name": "Python 3 (ipykernel)",
   "language": "python",
   "name": "python3"
  },
  "language_info": {
   "codemirror_mode": {
    "name": "ipython",
    "version": 3
   },
   "file_extension": ".py",
   "mimetype": "text/x-python",
   "name": "python",
   "nbconvert_exporter": "python",
   "pygments_lexer": "ipython3",
   "version": "3.8.12"
  },
  "toc": {
   "base_numbering": 1,
   "nav_menu": {},
   "number_sections": true,
   "sideBar": true,
   "skip_h1_title": false,
   "title_cell": "Table of Contents",
   "title_sidebar": "Contents",
   "toc_cell": false,
   "toc_position": {},
   "toc_section_display": true,
   "toc_window_display": false
  },
  "vscode": {
   "interpreter": {
    "hash": "dffb9ace53f7f7778f77a14b95a9ece251ab20e8a713091cad5aa758f1b47195"
   }
  }
 },
 "nbformat": 4,
 "nbformat_minor": 2
}
